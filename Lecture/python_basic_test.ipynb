{
 "cells": [
  {
   "cell_type": "code",
   "execution_count": 1,
   "id": "681de6db",
   "metadata": {},
   "outputs": [],
   "source": [
    "### 1. 다음 리스트 변수에서 음수 데이터를 삭제하고, 양수만 가진 리스트 변수로 만들고, 해당 변수를 출력하세요.\n",
    "\n",
    "num_list = [0, -11, 31, 22, -11, 33, -44, -55]"
   ]
  },
  {
   "cell_type": "code",
   "execution_count": 3,
   "id": "14a16ce9",
   "metadata": {},
   "outputs": [
    {
     "name": "stdout",
     "output_type": "stream",
     "text": [
      "[0, 31, 22, 33]\n"
     ]
    }
   ],
   "source": [
    "num_list = [0, -11, 31, 22, -11, 33, -44, -55]\n",
    "num_list2 = list()\n",
    "\n",
    "for index, num in enumerate(num_list):\n",
    "    if num >= 0:\n",
    "        num_list2.append(num)\n",
    "    \n",
    "print (num_list2)"
   ]
  },
  {
   "cell_type": "code",
   "execution_count": 4,
   "id": "044c4d49",
   "metadata": {},
   "outputs": [],
   "source": [
    "### 2. 다음 리스트에 있는 데이터의 길이를 한 라인에 하나씩 출력하세요.\n",
    "\n",
    "list_data = [\"fun-coding\", \"Dave\", \"Linux\", \"Python\", \"javascript\", \"front-end\", \"back-end\", \"dataengineering\"]"
   ]
  },
  {
   "cell_type": "code",
   "execution_count": 5,
   "id": "57bf74c6",
   "metadata": {},
   "outputs": [
    {
     "name": "stdout",
     "output_type": "stream",
     "text": [
      "\"fun-coding\"'s length is 10\n",
      "\"Dave\"'s length is 4\n",
      "\"Linux\"'s length is 5\n",
      "\"Python\"'s length is 6\n",
      "\"javascript\"'s length is 10\n",
      "\"front-end\"'s length is 9\n",
      "\"back-end\"'s length is 8\n",
      "\"dataengineering\"'s length is 15\n"
     ]
    }
   ],
   "source": [
    "list_data = [\"fun-coding\", \"Dave\", \"Linux\", \"Python\", \"javascript\", \"front-end\", \"back-end\", \"dataengineering\"]\n",
    "for data in list_data:\n",
    "    print (\"\\\"\" + data + \"\\\"\" + \"'s length is\", len(data))"
   ]
  },
  {
   "cell_type": "code",
   "execution_count": 7,
   "id": "a135e6c8",
   "metadata": {},
   "outputs": [
    {
     "ename": "SyntaxError",
     "evalue": "invalid syntax. Perhaps you forgot a comma? (1312554595.py, line 2)",
     "output_type": "error",
     "traceback": [
      "\u001B[1;36m  Cell \u001B[1;32mIn [7], line 2\u001B[1;36m\u001B[0m\n\u001B[1;33m    (단, 리스트에 있는 숫자들은 한 라인에 하나씩 출력하세요.)\u001B[0m\n\u001B[1;37m        ^\u001B[0m\n\u001B[1;31mSyntaxError\u001B[0m\u001B[1;31m:\u001B[0m invalid syntax. Perhaps you forgot a comma?\n"
     ]
    }
   ],
   "source": [
    "### 3. 다음 리스트에 있는 숫자를 역 방향으로 출력하세요.\n",
    "(단, 리스트에 있는 숫자들은 한 라인에 하나씩 출력하세요.)\n",
    "\n",
    "data = [1, 2, 3, 4, 5, 6, 7, 8, 9, 10]"
   ]
  },
  {
   "cell_type": "code",
   "execution_count": 8,
   "id": "a7538ed8",
   "metadata": {},
   "outputs": [
    {
     "name": "stdout",
     "output_type": "stream",
     "text": [
      "10\n",
      "9\n",
      "8\n",
      "7\n",
      "6\n",
      "5\n",
      "4\n",
      "3\n",
      "2\n",
      "1\n"
     ]
    }
   ],
   "source": [
    "data = [1, 2, 3, 4, 5, 6, 7, 8, 9, 10]\n",
    "data.reverse()\n",
    "\n",
    "for item in data:\n",
    "    print (item)"
   ]
  },
  {
   "cell_type": "code",
   "execution_count": null,
   "id": "a2e6c571",
   "metadata": {},
   "outputs": [],
   "source": [
    "### 4. 다음과 같이 파일 이름(확장자 포함) 저장하고 있는 리스트가 있을 때 확장자를 제거하고 파일 이름만 출력하세요.\n"
   ]
  },
  {
   "cell_type": "code",
   "execution_count": 1,
   "id": "bc3c3aee",
   "metadata": {
    "pycharm": {
     "name": "#%%\n"
    }
   },
   "outputs": [
    {
     "name": "stdout",
     "output_type": "stream",
     "text": [
      "exercise01\n",
      "exercise02\n",
      "exercise03\n",
      "exercise04\n",
      "exercise05\n"
     ]
    }
   ],
   "source": [
    "filelist = ['exercise01.docx', 'exercise02.docx', 'exercise03.docx', 'exercise04.docx', 'exercise05.docx']\n",
    "for item in filelist:\n",
    "    print(item.split('.')[0])"
   ]
  },
  {
   "cell_type": "code",
   "execution_count": null,
   "id": "fbb706d8",
   "metadata": {
    "pycharm": {
     "name": "#%%\n"
    }
   },
   "outputs": [],
   "source": []
  },
  {
   "cell_type": "code",
   "execution_count": null,
   "id": "91f197b0",
   "metadata": {
    "pycharm": {
     "name": "#%%\n"
    }
   },
   "outputs": [],
   "source": [
    "\n"
   ]
  }
 ],
 "metadata": {
  "kernelspec": {
   "display_name": "Python 3 (ipykernel)",
   "language": "python",
   "name": "python3"
  },
  "language_info": {
   "codemirror_mode": {
    "name": "ipython",
    "version": 3
   },
   "file_extension": ".py",
   "mimetype": "text/x-python",
   "name": "python",
   "nbconvert_exporter": "python",
   "pygments_lexer": "ipython3",
   "version": "3.10.2"
  }
 },
 "nbformat": 4,
 "nbformat_minor": 5
}