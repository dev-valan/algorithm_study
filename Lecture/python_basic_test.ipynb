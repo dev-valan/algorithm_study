{
 "cells": [
  {
   "cell_type": "code",
   "execution_count": 1,
   "id": "6074d1dd",
   "metadata": {},
   "outputs": [],
   "source": [
    "### 1. 다음 리스트 변수에서 음수 데이터를 삭제하고, 양수만 가진 리스트 변수로 만들고, 해당 변수를 출력하세요.\n",
    "\n",
    "num_list = [0, -11, 31, 22, -11, 33, -44, -55]\n"
   ]
  },
  {
   "cell_type": "code",
   "execution_count": 3,
   "id": "5a2c42d8",
   "metadata": {},
   "outputs": [
    {
     "name": "stdout",
     "output_type": "stream",
     "text": [
      "[0, 31, 22, 33]\n"
     ]
    }
   ],
   "source": [
    "num_list = [0, -11, 31, 22, -11, 33, -44, -55]\n",
    "num_list2 = list()\n",
    "\n",
    "for index, num in enumerate(num_list):\n",
    "    if num >= 0:\n",
    "        num_list2.append(num)\n",
    "    \n",
    "print (num_list2)"
   ]
  },
  {
   "cell_type": "code",
   "execution_count": null,
   "id": "6ca91881",
   "metadata": {},
   "outputs": [],
   "source": []
  }
 ],
 "metadata": {
  "kernelspec": {
   "display_name": "Python 3 (ipykernel)",
   "language": "python",
   "name": "python3"
  },
  "language_info": {
   "codemirror_mode": {
    "name": "ipython",
    "version": 3
   },
   "file_extension": ".py",
   "mimetype": "text/x-python",
   "name": "python",
   "nbconvert_exporter": "python",
   "pygments_lexer": "ipython3",
   "version": "3.10.2"
  }
 },
 "nbformat": 4,
 "nbformat_minor": 5
}
