{
 "cells": [
  {
   "cell_type": "code",
   "execution_count": 2,
   "id": "0a5757a1",
   "metadata": {},
   "outputs": [
    {
     "name": "stdout",
     "output_type": "stream",
     "text": [
      "<class 'tuple'>\n"
     ]
    }
   ],
   "source": [
    "# 튜플\n",
    "\n",
    "# tuple()은 값을 변경하거나 삭제 할 수 없다. 단지 쓸 수만 있다.\n",
    "\n",
    "a = ()\n",
    "print(type(a))\n",
    "# <class 'tuple'>\n"
   ]
  },
  {
   "cell_type": "code",
   "execution_count": 4,
   "id": "95e50368",
   "metadata": {},
   "outputs": [
    {
     "name": "stdout",
     "output_type": "stream",
     "text": [
      "()\n",
      "<class 'tuple'>\n"
     ]
    }
   ],
   "source": [
    "a = tuple()\n",
    "print(a)\n",
    "# ()\n",
    "print(type(a))\n",
    "# <class 'tuple'>"
   ]
  },
  {
   "cell_type": "code",
   "execution_count": 5,
   "id": "e9c41733",
   "metadata": {},
   "outputs": [],
   "source": [
    "# 리스트와 가장 다른 점이라고 할 수 있겠다. 불변 시퀀스 타입이기 때문에 값을 변경하거나 삭제할 수 없다."
   ]
  },
  {
   "cell_type": "code",
   "execution_count": 6,
   "id": "faee9da8",
   "metadata": {},
   "outputs": [
    {
     "data": {
      "text/plain": [
       "(1, 2, 3, 4, 5)"
      ]
     },
     "execution_count": 6,
     "metadata": {},
     "output_type": "execute_result"
    }
   ],
   "source": [
    ">>> b = 1,2,3,4,5\n",
    ">>> b\n",
    "(1, 2, 3, 4, 5)"
   ]
  },
  {
   "cell_type": "code",
   "execution_count": 7,
   "id": "c550aebf",
   "metadata": {},
   "outputs": [],
   "source": [
    "# 변수 하나에 여러 값을 집어 넣어도 튜플 형태이다."
   ]
  },
  {
   "cell_type": "code",
   "execution_count": 8,
   "id": "8579701c",
   "metadata": {},
   "outputs": [
    {
     "ename": "SyntaxError",
     "evalue": "invalid syntax (3520763912.py, line 8)",
     "output_type": "error",
     "traceback": [
      "\u001b[1;36m  Cell \u001b[1;32mIn [8], line 8\u001b[1;36m\u001b[0m\n\u001b[1;33m    <class 'tuple'>\u001b[0m\n\u001b[1;37m    ^\u001b[0m\n\u001b[1;31mSyntaxError\u001b[0m\u001b[1;31m:\u001b[0m invalid syntax\n"
     ]
    }
   ],
   "source": [
    ">>> b = 1\n",
    ">>> b\n",
    "1\n",
    ">>> b = 1,\n",
    ">>> b\n",
    "(1,)\n",
    ">>> type(b)\n",
    "<class 'tuple'>"
   ]
  },
  {
   "cell_type": "code",
   "execution_count": 9,
   "id": "d009a252",
   "metadata": {},
   "outputs": [],
   "source": [
    "# 하나짜리 튜플을 생성할 때에는 ,로 구분지어주면 생성이 된다. \n",
    "# ,없이 하나의 요소만 달랑 변수에 입력하려고 하면 그냥 그 값이 변수에 저장된다."
   ]
  },
  {
   "cell_type": "code",
   "execution_count": 11,
   "id": "69f5bf50",
   "metadata": {},
   "outputs": [
    {
     "data": {
      "text/plain": [
       "4"
      ]
     },
     "execution_count": 11,
     "metadata": {},
     "output_type": "execute_result"
    }
   ],
   "source": [
    "# 패킹 : 튜플로 만드는 작업\n",
    ">>> a = 1,2,3,4\n",
    ">>> a\n",
    "(1, 2, 3, 4)\n",
    "\n",
    "\n",
    "# 언패킹 : 튜플에서 값을 꺼내는 작업\n",
    ">>> a1, a2, a3, a4 = a\n",
    ">>> a1\n",
    "1\n",
    ">>> a2\n",
    "2\n",
    ">>> a3\n",
    "3\n",
    ">>> a4\n",
    "4"
   ]
  },
  {
   "cell_type": "code",
   "execution_count": 1,
   "id": "1790520b",
   "metadata": {},
   "outputs": [
    {
     "ename": "SyntaxError",
     "evalue": "invalid syntax (2303098764.py, line 5)",
     "output_type": "error",
     "traceback": [
      "\u001b[1;36m  Cell \u001b[1;32mIn [1], line 5\u001b[1;36m\u001b[0m\n\u001b[1;33m    >>> a = 1, 5, 7, 8, 9, 4, 1, 4\u001b[0m\n\u001b[1;37m    ^\u001b[0m\n\u001b[1;31mSyntaxError\u001b[0m\u001b[1;31m:\u001b[0m invalid syntax\n"
     ]
    }
   ],
   "source": [
    "# 튜플 메소드\n",
    "\n",
    "# count()\n",
    "# A.count(x)는 튜플 A에 담긴 항목 x의 갯수를 반환한다.\n",
    ">>> a = 1, 5, 7, 8, 9, 4, 1, 4\n",
    ">>> a.count(4)\n",
    "2\n",
    "\n",
    "\n",
    "# index()\n",
    "# index(x) 메소드는 항목 x의 인덱스 위치를 반환한다.\n",
    ">>> a = 1, 5, 7\n",
    ">>> a.index(5)\n",
    "1"
   ]
  },
  {
   "cell_type": "code",
   "execution_count": 2,
   "id": "ea4594f0",
   "metadata": {},
   "outputs": [],
   "source": [
    "# 튜플을 사용하는 이유\n",
    "\n",
    "## 리스트와 비교했을 때, 메모리를 더 효율적으로 사용여 퍼포먼스 향상에 도움이 되기 때문에 사용.\n",
    "\n",
    "## 파이썬의 List 는 다른 언어의 Array 와 Linked List 기능을 합해 놓음.\n",
    "\n",
    "## 튜플에 비해 리스트가 무거운 이유\n",
    "## 1. 동적 배열 (기존 사이즈 더블링)\n",
    "## 2. 리스트는 가변 객체이기 때문\n",
    "\n",
    "## So, 불변 값인 경우는 Tuple 을 사용하는게 더 이득이다!\n"
   ]
  },
  {
   "cell_type": "code",
   "execution_count": 3,
   "id": "2fc5703a",
   "metadata": {},
   "outputs": [
    {
     "ename": "SyntaxError",
     "evalue": "invalid syntax (767287272.py, line 1)",
     "output_type": "error",
     "traceback": [
      "\u001b[1;36m  Cell \u001b[1;32mIn [3], line 1\u001b[1;36m\u001b[0m\n\u001b[1;33m    ---------------\u001b[0m\n\u001b[1;37m                   ^\u001b[0m\n\u001b[1;31mSyntaxError\u001b[0m\u001b[1;31m:\u001b[0m invalid syntax\n"
     ]
    }
   ],
   "source": [
    "---------------"
   ]
  },
  {
   "cell_type": "code",
   "execution_count": 4,
   "id": "407e274c",
   "metadata": {},
   "outputs": [],
   "source": [
    "# Dictionary ( 딕셔너리 )\n",
    "\n",
    "## Key와 Value를 한 쌍으로 갖는 자료형\n",
    "##  Key는 고유한 값\n",
    "\n",
    "## 일반적인 형태\n",
    "## >>> dic = {'name':'pey', 'phone':'0119993323', 'birth': '1118'}\n",
    "\n",
    "## Value에 리스트도 넣을 수 있다.\n",
    "## >>> a = { 'a': [1,2,3]}"
   ]
  },
  {
   "cell_type": "code",
   "execution_count": 5,
   "id": "0e31c836",
   "metadata": {},
   "outputs": [
    {
     "ename": "SyntaxError",
     "evalue": "invalid syntax (4063651061.py, line 5)",
     "output_type": "error",
     "traceback": [
      "\u001b[1;36m  Cell \u001b[1;32mIn [5], line 5\u001b[1;36m\u001b[0m\n\u001b[1;33m    >>> a = {'name': 'pey', 'phone': '0119993323', 'birth': '1118'}\u001b[0m\n\u001b[1;37m    ^\u001b[0m\n\u001b[1;31mSyntaxError\u001b[0m\u001b[1;31m:\u001b[0m invalid syntax\n"
     ]
    }
   ],
   "source": [
    "## Dictionary 메소드들\n",
    "\n",
    "### 1) Key 리스트 만들기(keys)\n",
    "\n",
    ">>> a = {'name': 'pey', 'phone': '0119993323', 'birth': '1118'}\n",
    ">>> a.keys()\n",
    "dict_keys(['name', 'phone', 'birth'])\n",
    "\n",
    "\n",
    "## dict_keys 객체를 리스트로 변환하려면 다음과 같이 하면 된다.\n",
    "\n",
    ">>> list(a.keys())\n",
    "['name', 'phone', 'birth']\n",
    "\n",
    "\n",
    "### 2) Value 리스트 만들기(values)\n",
    ">>> a.values()\n",
    "dict_values(['pey', '0119993323', '1118'])\n",
    "\n",
    "\n",
    "\n",
    "### 3) Key, Value 쌍 얻기(items)\n",
    ">>> a.items()\n",
    "dict_items([('name', 'pey'), ('phone', '0119993323'), ('birth', '1118')])\n",
    "\n",
    "\n",
    "\n",
    "### 4) 해당 Key가 딕셔너리 안에 있는지 조사하기(in)\n",
    ">>> a = {'name':'pey', 'phone':'0119993323', 'birth': '1118'}\n",
    ">>> 'name' in a\n",
    "True\n",
    ">>> 'email' in a\n",
    "False\n"
   ]
  },
  {
   "cell_type": "code",
   "execution_count": 6,
   "id": "880e1eb7",
   "metadata": {},
   "outputs": [
    {
     "ename": "SyntaxError",
     "evalue": "invalid syntax (614614303.py, line 1)",
     "output_type": "error",
     "traceback": [
      "\u001b[1;36m  Cell \u001b[1;32mIn [6], line 1\u001b[1;36m\u001b[0m\n\u001b[1;33m    --------------------------------\u001b[0m\n\u001b[1;37m                                    ^\u001b[0m\n\u001b[1;31mSyntaxError\u001b[0m\u001b[1;31m:\u001b[0m invalid syntax\n"
     ]
    }
   ],
   "source": [
    "--------------------------------"
   ]
  },
  {
   "cell_type": "code",
   "execution_count": null,
   "id": "b36d98c9",
   "metadata": {},
   "outputs": [],
   "source": []
  }
 ],
 "metadata": {
  "kernelspec": {
   "display_name": "Python 3 (ipykernel)",
   "language": "python",
   "name": "python3"
  },
  "language_info": {
   "codemirror_mode": {
    "name": "ipython",
    "version": 3
   },
   "file_extension": ".py",
   "mimetype": "text/x-python",
   "name": "python",
   "nbconvert_exporter": "python",
   "pygments_lexer": "ipython3",
   "version": "3.10.2"
  }
 },
 "nbformat": 4,
 "nbformat_minor": 5
}
