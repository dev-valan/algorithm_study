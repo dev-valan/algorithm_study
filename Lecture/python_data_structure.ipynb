{
 "cells": [
  {
   "cell_type": "code",
   "execution_count": 2,
   "id": "0a5757a1",
   "metadata": {},
   "outputs": [
    {
     "name": "stdout",
     "output_type": "stream",
     "text": [
      "<class 'tuple'>\n"
     ]
    }
   ],
   "source": [
    "# 튜플\n",
    "\n",
    "# tuple()은 값을 변경하거나 삭제 할 수 없다. 단지 쓸 수만 있다.\n",
    "\n",
    "a = ()\n",
    "print(type(a))\n",
    "# <class 'tuple'>\n"
   ]
  },
  {
   "cell_type": "code",
   "execution_count": 4,
   "id": "95e50368",
   "metadata": {},
   "outputs": [
    {
     "name": "stdout",
     "output_type": "stream",
     "text": [
      "()\n",
      "<class 'tuple'>\n"
     ]
    }
   ],
   "source": [
    "a = tuple()\n",
    "print(a)\n",
    "# ()\n",
    "print(type(a))\n",
    "# <class 'tuple'>"
   ]
  },
  {
   "cell_type": "code",
   "execution_count": 5,
   "id": "e9c41733",
   "metadata": {},
   "outputs": [],
   "source": [
    "# 리스트와 가장 다른 점이라고 할 수 있겠다. 불변 시퀀스 타입이기 때문에 값을 변경하거나 삭제할 수 없다."
   ]
  },
  {
   "cell_type": "code",
   "execution_count": 6,
   "id": "faee9da8",
   "metadata": {},
   "outputs": [
    {
     "data": {
      "text/plain": [
       "(1, 2, 3, 4, 5)"
      ]
     },
     "execution_count": 6,
     "metadata": {},
     "output_type": "execute_result"
    }
   ],
   "source": [
    ">>> b = 1,2,3,4,5\n",
    ">>> b\n",
    "(1, 2, 3, 4, 5)"
   ]
  },
  {
   "cell_type": "code",
   "execution_count": 7,
   "id": "c550aebf",
   "metadata": {},
   "outputs": [],
   "source": [
    "# 변수 하나에 여러 값을 집어 넣어도 튜플 형태이다."
   ]
  },
  {
   "cell_type": "code",
   "execution_count": 8,
   "id": "8579701c",
   "metadata": {},
   "outputs": [
    {
     "ename": "SyntaxError",
     "evalue": "invalid syntax (3520763912.py, line 8)",
     "output_type": "error",
     "traceback": [
      "\u001b[1;36m  Cell \u001b[1;32mIn [8], line 8\u001b[1;36m\u001b[0m\n\u001b[1;33m    <class 'tuple'>\u001b[0m\n\u001b[1;37m    ^\u001b[0m\n\u001b[1;31mSyntaxError\u001b[0m\u001b[1;31m:\u001b[0m invalid syntax\n"
     ]
    }
   ],
   "source": [
    ">>> b = 1\n",
    ">>> b\n",
    "1\n",
    ">>> b = 1,\n",
    ">>> b\n",
    "(1,)\n",
    ">>> type(b)\n",
    "<class 'tuple'>"
   ]
  },
  {
   "cell_type": "code",
   "execution_count": 9,
   "id": "d009a252",
   "metadata": {},
   "outputs": [],
   "source": [
    "# 하나짜리 튜플을 생성할 때에는 ,로 구분지어주면 생성이 된다. \n",
    "# ,없이 하나의 요소만 달랑 변수에 입력하려고 하면 그냥 그 값이 변수에 저장된다."
   ]
  },
  {
   "cell_type": "code",
   "execution_count": 11,
   "id": "69f5bf50",
   "metadata": {},
   "outputs": [
    {
     "data": {
      "text/plain": [
       "4"
      ]
     },
     "execution_count": 11,
     "metadata": {},
     "output_type": "execute_result"
    }
   ],
   "source": [
    "# 패킹 : 튜플로 만드는 작업\n",
    ">>> a = 1,2,3,4\n",
    ">>> a\n",
    "(1, 2, 3, 4)\n",
    "\n",
    "\n",
    "# 언패킹 : 튜플에서 값을 꺼내는 작업\n",
    ">>> a1, a2, a3, a4 = a\n",
    ">>> a1\n",
    "1\n",
    ">>> a2\n",
    "2\n",
    ">>> a3\n",
    "3\n",
    ">>> a4\n",
    "4"
   ]
  },
  {
   "cell_type": "code",
   "execution_count": null,
   "id": "1790520b",
   "metadata": {},
   "outputs": [],
   "source": [
    "# 튜플 메소드\n",
    "\n",
    "# count()\n",
    "# A.count(x)는 튜플 A에 담긴 항목 x의 갯수를 반환한다.\n",
    ">>> a = 1, 5, 7, 8, 9, 4, 1, 4\n",
    ">>> a.count(4)\n",
    "2\n",
    "\n",
    "\n",
    "# index()\n",
    "# index(x) 메소드는 항목 x의 인덱스 위치를 반환한다.\n",
    ">>> a = 1, 5, 7\n",
    ">>> a.index(5)\n",
    "1"
   ]
  }
 ],
 "metadata": {
  "kernelspec": {
   "display_name": "Python 3 (ipykernel)",
   "language": "python",
   "name": "python3"
  },
  "language_info": {
   "codemirror_mode": {
    "name": "ipython",
    "version": 3
   },
   "file_extension": ".py",
   "mimetype": "text/x-python",
   "name": "python",
   "nbconvert_exporter": "python",
   "pygments_lexer": "ipython3",
   "version": "3.10.2"
  }
 },
 "nbformat": 4,
 "nbformat_minor": 5
}
